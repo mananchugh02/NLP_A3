{
 "cells": [
  {
   "cell_type": "code",
   "execution_count": 16,
   "metadata": {},
   "outputs": [],
   "source": [
    "import pandas as pd\n",
    "import torch\n",
    "from torch.utils.data import Dataset, DataLoader\n",
    "from transformers import BertTokenizer\n",
    "import pickle\n",
    "import warnings\n",
    "\n",
    "warnings.filterwarnings(\"ignore\")"
   ]
  },
  {
   "cell_type": "code",
   "execution_count": 18,
   "metadata": {},
   "outputs": [
    {
     "name": "stdout",
     "output_type": "stream",
     "text": [
      "   id  score                             sentence1  \\\n",
      "0   1  4.923     A man with a hard hat is dancing.   \n",
      "1   2  4.811      A young child is riding a horse.   \n",
      "2   3  4.879  A man is feeding a mouse to a snake.   \n",
      "3   4  2.047        A woman is playing the guitar.   \n",
      "4   5  2.456         A woman is playing the flute.   \n",
      "\n",
      "                                  sentence2  \n",
      "0      A man wearing a hard hat is dancing.  \n",
      "1                A child is riding a horse.  \n",
      "2  The man is feeding a mouse to the snake.  \n",
      "3                  A man is playing guitar.  \n",
      "4                 A man is playing a flute.  \n"
     ]
    }
   ],
   "source": [
    "class SimilarityDataset(Dataset):\n",
    "    def __init__(self, dataframe, tokenizer, max_length):\n",
    "        self.data = dataframe.dropna() \n",
    "        self.tokenizer = tokenizer\n",
    "        self.max_length = max_length\n",
    "\n",
    "    def __len__(self):\n",
    "        return len(self.data)\n",
    "\n",
    "    def __getitem__(self, idx):\n",
    "        id = self.data.iloc[idx]['id']\n",
    "        sentence1 = self.data.iloc[idx]['sentence1']\n",
    "        sentence2 = self.data.iloc[idx]['sentence2']\n",
    "\n",
    "        inputs = self.tokenizer.encode_plus(\n",
    "            sentence1,\n",
    "            sentence2,\n",
    "            add_special_tokens=True,\n",
    "            max_length=self.max_length,\n",
    "            padding='max_length',\n",
    "            truncation=True,\n",
    "            return_tensors='pt'\n",
    "        )\n",
    "\n",
    "        return {\n",
    "            'id': id,\n",
    "            'input_ids': inputs['input_ids'].squeeze(0),\n",
    "            'attention_mask': inputs['attention_mask'].squeeze(0),\n",
    "        }\n",
    "\n",
    "class BertSimilarityModel(torch.nn.Module):\n",
    "    def __init__(self, bert_model_name):\n",
    "        super(BertSimilarityModel, self).__init__()\n",
    "        self.bert = torch.load(bert_model_name)\n",
    "        self.linear = torch.nn.Linear(self.bert.config.hidden_size, 1)\n",
    "\n",
    "    def forward(self, input_ids, attention_mask):\n",
    "        outputs = self.bert(input_ids=input_ids, attention_mask=attention_mask)\n",
    "        pooled_output = outputs.pooler_output\n",
    "        similarity_score = self.linear(pooled_output)\n",
    "        return similarity_score.squeeze(1)\n",
    "\n",
    "test_data = pd.read_csv('Data/sample_test.csv', sep='\\t')\n",
    "\n",
    "with open('checkpoints/model_1A.pkl', 'rb') as f:\n",
    "    model = pickle.load(f)\n",
    "\n",
    "tokenizer = BertTokenizer.from_pretrained('bert-base-uncased')\n",
    "\n",
    "test_dataset = SimilarityDataset(test_data, tokenizer, max_length=128)\n",
    "test_loader = DataLoader(test_dataset, batch_size=1, shuffle=False)\n",
    "\n",
    "model.eval()\n",
    "predictions = []\n",
    "\n",
    "with torch.no_grad():\n",
    "    for batch in test_loader:\n",
    "        input_ids = batch['input_ids']\n",
    "        attention_mask = batch['attention_mask']\n",
    "\n",
    "        outputs = model(input_ids, attention_mask)\n",
    "        predictions.append(round(outputs.item(), 3)) \n",
    "\n",
    "test_data['score'] = predictions\n",
    "\n",
    "test_data = test_data[['id', 'score', 'sentence1', 'sentence2']]\n",
    "\n",
    "test_data.to_csv('Data/sample_demo.csv', sep='\\t', index=False)\n",
    "\n",
    "print(test_data.head())"
   ]
  }
 ],
 "metadata": {
  "kernelspec": {
   "display_name": "Python 3",
   "language": "python",
   "name": "python3"
  },
  "language_info": {
   "codemirror_mode": {
    "name": "ipython",
    "version": 3
   },
   "file_extension": ".py",
   "mimetype": "text/x-python",
   "name": "python",
   "nbconvert_exporter": "python",
   "pygments_lexer": "ipython3",
   "version": "3.10.12"
  }
 },
 "nbformat": 4,
 "nbformat_minor": 2
}
